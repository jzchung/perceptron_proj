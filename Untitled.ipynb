{
 "cells": [
  {
   "cell_type": "code",
   "execution_count": 28,
   "metadata": {},
   "outputs": [],
   "source": [
    "import numpy as np\n",
    "import pandas as pd\n"
   ]
  },
  {
   "cell_type": "code",
   "execution_count": 158,
   "metadata": {},
   "outputs": [],
   "source": [
    "def percep(trainx, trainy, dim):\n",
    "    b = 0\n",
    "    eta = 1 # learning rate\n",
    "    missflag = True # 0--no miss-classified 1--exists miss-classified\n",
    "    w = np.zeros([1,dim]) #dtype=double default\n",
    "    while(True):\n",
    "        if missflag:\n",
    "            print('exits miss-classified samples...')\n",
    "            missflag = False\n",
    "            for x,y in zip(trainx.itertuples(index=False),trainy):\n",
    "                xp = np.array(x)\n",
    "                if y*(np.dot(w,xp)+b) <= 0:\n",
    "                    print('sample ',xp, 'miss-classified.', end='')\n",
    "                    w += eta * y * xp\n",
    "                    b += eta * y\n",
    "                    missflag = True;\n",
    "                    print('update w=' , w,' b=', b)\n",
    "                else:\n",
    "                        print('sample ', xp, 'successfully classified')\n",
    "        else:\n",
    "            print('finished')\n",
    "            break\n",
    "    return w,b"
   ]
  },
  {
   "cell_type": "code",
   "execution_count": 160,
   "metadata": {},
   "outputs": [
    {
     "name": "stdout",
     "output_type": "stream",
     "text": [
      "   0  1\n",
      "0  3  3\n",
      "1  4  3\n",
      "2  1  1\n",
      "exits miss-classified samples...\n",
      "sample  [3 3] miss-classified.update w= [[3. 3.]]  b= 1\n",
      "sample  [4 3] successfully classified\n",
      "sample  [1 1] miss-classified.update w= [[2. 2.]]  b= 0\n",
      "exits miss-classified samples...\n",
      "sample  [3 3] successfully classified\n",
      "sample  [4 3] successfully classified\n",
      "sample  [1 1] miss-classified.update w= [[1. 1.]]  b= -1\n",
      "exits miss-classified samples...\n",
      "sample  [3 3] successfully classified\n",
      "sample  [4 3] successfully classified\n",
      "sample  [1 1] miss-classified.update w= [[0. 0.]]  b= -2\n",
      "exits miss-classified samples...\n",
      "sample  [3 3] miss-classified.update w= [[3. 3.]]  b= -1\n",
      "sample  [4 3] successfully classified\n",
      "sample  [1 1] miss-classified.update w= [[2. 2.]]  b= -2\n",
      "exits miss-classified samples...\n",
      "sample  [3 3] successfully classified\n",
      "sample  [4 3] successfully classified\n",
      "sample  [1 1] miss-classified.update w= [[1. 1.]]  b= -3\n",
      "exits miss-classified samples...\n",
      "sample  [3 3] successfully classified\n",
      "sample  [4 3] successfully classified\n",
      "sample  [1 1] successfully classified\n",
      "[[1. 1.]] -3\n"
     ]
    }
   ],
   "source": [
    "#load data\n",
    "filename = './data/test.csv';\n",
    "data = pd.read_csv(filename, header=None, sep=',') # read csv into dataframe\n",
    "# data.describe()\n",
    "# print(data)\n",
    "labels = data.iloc[-1]\n",
    "# print(labels)\n",
    "data = data.drop(data.columns[len(data.columns)-1], axis = 1)\n",
    "length = len(data.columns)\n",
    "[w,b]=percep(data, labels, length)\n",
    "print(w,b)"
   ]
  }
 ],
 "metadata": {
  "kernelspec": {
   "display_name": "Python 3",
   "language": "python",
   "name": "python3"
  },
  "language_info": {
   "codemirror_mode": {
    "name": "ipython",
    "version": 3
   },
   "file_extension": ".py",
   "mimetype": "text/x-python",
   "name": "python",
   "nbconvert_exporter": "python",
   "pygments_lexer": "ipython3",
   "version": "3.7.7"
  }
 },
 "nbformat": 4,
 "nbformat_minor": 2
}
